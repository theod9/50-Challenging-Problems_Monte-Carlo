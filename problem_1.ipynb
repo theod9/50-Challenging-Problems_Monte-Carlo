{
 "cells": [
  {
   "cell_type": "markdown",
   "id": "8e6e0fcc-691b-4967-a34c-bd3143ff945f",
   "metadata": {},
   "source": [
    "### Fifty Challenging Problems in Probability \n"
   ]
  },
  {
   "cell_type": "markdown",
   "id": "bc8a22bd",
   "metadata": {},
   "source": [
    "<p align=\"left\">\n",
    "    <img src=\"images/problem1.png\" width=\"950\" />\n",
    "</p>"
   ]
  },
  {
   "cell_type": "code",
   "execution_count": 3,
   "id": "4b07d251-ee47-4bcb-b969-31f9d7f40d5e",
   "metadata": {},
   "outputs": [],
   "source": [
    "import random\n",
    "import numpy as np\n",
    "import matplotlib.pyplot as plt\n",
    "import time"
   ]
  },
  {
   "cell_type": "markdown",
   "id": "42abdf28",
   "metadata": {},
   "source": [
    "1. We will create a function to simulate the experiment n_trials times and count how often two red socks are drawn. In each experiment we have num_r red socks and num_b black socks. We draw two socks without replacement and if they are both red we increment the count. We repeat the experiment sample_size times and add the ratio to the list_ratios. We repeat the process n_trials times to get the variance of the ratio."
   ]
  },
  {
   "cell_type": "code",
   "execution_count": 59,
   "id": "d10ab22b-81ab-4cd0-b495-69e021c04028",
   "metadata": {},
   "outputs": [],
   "source": [
    "def run_trials(n_trials, n_samples, num_r, num_b, verbose=True):\n",
    "    \"\"\"\n",
    "    Simulates drawing two socks multiple times from a drawer containing 'num_r' red socks and 'num_b' black socks.\n",
    "    \n",
    "    Args:\n",
    "        n_trials (int): The number of trial runs to repeat the experiment.\n",
    "        sample_size (int): The number of samples drawn in each trial.\n",
    "        num_r (int): The number of red socks in the drawer.\n",
    "        num_b (int): The number of black socks in the drawer.\n",
    "        verbose (bool): If True, prints the results after the trials are completed. Default is True.\n",
    "    \n",
    "    Returns:\n",
    "        prob_mean (float): The mean probability of drawing two red socks across all trials.\n",
    "        prob_se (float): The standard error of the mean probability across trials.\n",
    "        list_ratios (numpy.ndarray): Array of probabilities of drawing two red socks for each trial.\n",
    "    \"\"\"\n",
    "    \n",
    "    list_ratios = []\n",
    "    \n",
    "    for i in range(n_trials):\n",
    "        count = 0  # Count of successful draws (i.e., two red socks)\n",
    "        \n",
    "        for j in range(n_samples):\n",
    "            # Randomly sample two socks from the drawer without replacement\n",
    "            pick_two_socks = random.sample(['R', 'B'], k=2, counts=[num_r, num_b])\n",
    "            \n",
    "            # Check if both socks drawn are red\n",
    "            if pick_two_socks.count('R') == 2:\n",
    "                count += 1\n",
    "        \n",
    "        # Calculate the ratio of successful draws (two red socks) in this trial\n",
    "        ratio = count / n_samples\n",
    "        list_ratios.append(ratio)\n",
    "    \n",
    "    # Convert list of ratios to a numpy array for statistical analysis\n",
    "    list_ratios = np.array(list_ratios)\n",
    "    \n",
    "    if verbose:\n",
    "        print(\"The probability of drawing two red socks is: \", round(list_ratios.mean(), 5))\n",
    "        print(\"The standard error is: \", round(list_ratios.std() / np.sqrt(n_trials), 5))\n",
    "    \n",
    "    # Calculate and return the mean probability and its standard error\n",
    "    prob_mean = list_ratios.mean()\n",
    "    prob_se = list_ratios.std() / np.sqrt(n_trials)\n",
    "    \n",
    "    return prob_mean, prob_se, list_ratios\n"
   ]
  },
  {
   "cell_type": "markdown",
   "id": "cf9e9dee",
   "metadata": {},
   "source": [
    "Let's see what is the probability of drawing two red socks when there are 3 red and 1 black sock in the drawer"
   ]
  },
  {
   "cell_type": "code",
   "execution_count": 61,
   "id": "e73ff061",
   "metadata": {},
   "outputs": [
    {
     "name": "stdout",
     "output_type": "stream",
     "text": [
      "The probability of drawing two red socks is:  0.50016\n",
      "The standard error is:  0.00016\n",
      "\n",
      "Time taken for 1000 trials and 10000 samples: 14.96 seconds\n"
     ]
    }
   ],
   "source": [
    "n_trials = 1000\n",
    "n_samples = 10000\n",
    "num_r = 3\n",
    "num_b = 1   \n",
    "\n",
    "start_time = time.time()\n",
    "\n",
    "_,_,list_ratios = run_trials(n_trials=n_trials, n_samples =n_samples, num_r=num_r, num_b=num_b)\n",
    "\n",
    "end_time = time.time()\n",
    "print(f\"\\nTime taken for {n_trials} trials and {n_samples} samples: {end_time - start_time:.2f} seconds\")"
   ]
  },
  {
   "cell_type": "markdown",
   "id": "6200f23e",
   "metadata": {},
   "source": [
    "As the sample size and number of trials increase, the standard error decreases. It is essential to optimize the speed of the analysis. The function can be further enhanced by utilizing precalculated probabilities and vectorized operations to improve efficiency. The run_trials function is improved below:"
   ]
  },
  {
   "cell_type": "code",
   "execution_count": 6,
   "id": "f2373586",
   "metadata": {},
   "outputs": [],
   "source": [
    "def run_trials_optimized(n_trials, n_samples, num_r, num_b, verbose=True):\n",
    "    \"\"\"\n",
    "    Simulates drawing two socks multiple times from a drawer containing 'num_r' red socks and 'num_b' black socks.\n",
    "    \n",
    "    Optimized version using NumPy for faster performance.\n",
    "    \n",
    "    Args:\n",
    "        n_trials (int): The number of trial runs to repeat the experiment.\n",
    "        sample_size (int): The number of samples drawn in each trial.\n",
    "        num_r (int): The number of red socks in the drawer.\n",
    "        num_b (int): The number of black socks in the drawer.\n",
    "        verbose (bool): If True, prints the results after the trials are completed. Default is True.\n",
    "    \n",
    "    Returns:\n",
    "        prob_mean (float): The mean probability of drawing two red socks across all trials.\n",
    "        prob_se (float): The standard error of the mean probability across trials.\n",
    "        list_ratios (numpy.ndarray): Array of probabilities of drawing two red socks for each trial.\n",
    "    \"\"\"\n",
    "    \n",
    "    total_socks = num_r + num_b\n",
    "    \n",
    "    # Probability of drawing a red sock first\n",
    "    prob_first_red = num_r / total_socks\n",
    "    \n",
    "    # Probability of drawing a red sock second, given the first was red\n",
    "    prob_second_red_given_first_red = (num_r - 1) / (total_socks - 1)\n",
    "    \n",
    "    # Probability of drawing two red socks\n",
    "    prob_two_red = prob_first_red * prob_second_red_given_first_red\n",
    "    \n",
    "    # Simulate the trials\n",
    "    draws = np.random.rand(n_trials, sample_size) < prob_two_red\n",
    "    \n",
    "    # Count successful draws\n",
    "    successes = np.sum(draws, axis=1)\n",
    "    \n",
    "    # Calculate ratios\n",
    "    list_ratios = successes / sample_size\n",
    "    \n",
    "    prob_mean = np.mean(list_ratios)\n",
    "    prob_se = np.std(list_ratios, ddof=1) / np.sqrt(n_trials)\n",
    "    \n",
    "    if verbose:\n",
    "        print(f\"The probability of drawing two red socks is: {prob_mean:.5f}\")\n",
    "        print(f\"The standard error is: {prob_se:.5f}\")\n",
    "    \n",
    "    return prob_mean, prob_se, list_ratios"
   ]
  },
  {
   "cell_type": "code",
   "execution_count": 89,
   "id": "462e10a4",
   "metadata": {},
   "outputs": [
    {
     "name": "stdout",
     "output_type": "stream",
     "text": [
      "The probability of drawing two red socks is: 0.50000\n",
      "The standard error is: 0.00002\n",
      "\n",
      "Time taken for 10000 trials and 100000 samples: 6.86 seconds\n"
     ]
    }
   ],
   "source": [
    "# check the time it takes to run the function\n",
    "\n",
    "n_trials = 10000\n",
    "sample_size = 100000\n",
    "num_r = 3\n",
    "num_b = 1   \n",
    "\n",
    "start_time = time.time()\n",
    "\n",
    "_,_,list_ratios_optimized = run_trials_optimized(n_trials=n_trials, sample_size=sample_size, num_r=num_r, num_b=num_b)\n",
    "\n",
    "end_time = time.time()\n",
    "print(f\"\\nTime taken for {n_trials} trials and {sample_size} samples: {end_time - start_time:.2f} seconds\")\n"
   ]
  },
  {
   "cell_type": "markdown",
   "id": "a34c316d",
   "metadata": {},
   "source": [
    "We see that with the optimized function we are able to conduct 100 times more experiments in half the time. This leads to a quite lower standard error, thus more accurate results. Next we will plot a histogram of for the two cases and we will see visually that due to the larger number of experiments the distribution is more concentrated around the true probability"
   ]
  },
  {
   "cell_type": "code",
   "execution_count": 12,
   "id": "eab45687",
   "metadata": {},
   "outputs": [
    {
     "data": {
      "image/png": "[encoded data removed]",
      "text/plain": [
       "<Figure size 1000x600 with 1 Axes>"
      ]
     },
     "metadata": {},
     "output_type": "display_data"
    }
   ],
   "source": [
    "def plot_histogram(list_ratios, list_ratios_optimized, num_r, num_b):\n",
    "    \"\"\"\n",
    "    Plots a histogram of the list of ratios of successful draws (two red socks) in the trials.\n",
    "    \n",
    "    Args:\n",
    "        list_ratios (numpy.ndarray): A numpy array containing the ratios of successful draws in each trial.\n",
    "        list_ratios_optimized (numpy.ndarray): A numpy array containing the ratios of successful draws in each trial for the optimized method.\n",
    "        num_r (int): The number of red socks in the drawer.\n",
    "        num_b (int): The number of black socks in the drawer.\n",
    "    \"\"\"\n",
    "    plt.figure(figsize=(10, 6))\n",
    "    plt.hist(list_ratios, bins=20, color='skyblue', edgecolor='black', alpha=0.5, density=True)\n",
    "    plt.hist(list_ratios_optimized, bins=20, color='red', edgecolor='black', alpha=0.5, density=True)\n",
    "    \n",
    "    plt.xlabel('Probability of Drawing Two Red Socks')\n",
    "    plt.ylabel('Density')\n",
    "    plt.title(f'Histogram of Probability of Drawing Two Red Socks\\n({num_r} Red Socks, {num_b} Black Socks)')\n",
    "    plt.legend(['Original function, \\n10^7 experiments', 'Optimized function, \\n10^9 experiments'])\n",
    "    plt.show()\n",
    "    \n",
    "# Assuming list_ratios_optimized is available\n",
    "plot_histogram(list_ratios, list_ratios_optimized, num_r=3, num_b=1)"
   ]
  },
  {
   "cell_type": "markdown",
   "id": "1b1cf6e9",
   "metadata": {},
   "source": [
    "We will now define a function that incrementally increases the number of socks and checks if the mean probability equals the target value (e.g., 0.5). It calculates the 95% confidence interval based on the results from the run_trials function"
   ]
  },
  {
   "cell_type": "code",
   "execution_count": 38,
   "id": "e38188c7-a6b5-4e9d-ac3b-4885b6698074",
   "metadata": {},
   "outputs": [],
   "source": [
    "def min_socks(list_red, list_black, n_trials=1000, sample_size=10000, prob=0.5, tol=0.001, verbose=True):\n",
    "    \"\"\"\n",
    "    Determines the minimum number of red and black socks that yield a target probability of drawing two red socks.\n",
    "    \n",
    "    Args:\n",
    "        list_red (list): A list of potential numbers of red socks.\n",
    "        list_black (list): A list of potential numbers of black socks.\n",
    "        n_trials (int): The number of trials to run for each combination.\n",
    "        sample_size (int): The number of samples drawn per trial. \n",
    "        prob (float): The target probability of drawing two red socks. Default is 0.5.\n",
    "        tol (float): The maximum allowed width of the 95% confidence interval. Default is 0.001.\n",
    "        verbose (bool): If True, prints progress and results. Default is True.\n",
    "    \n",
    "    Returns:\n",
    "        tuple: The minimum number of red and black socks that result in the target probability.\n",
    "    \"\"\"\n",
    "    \n",
    "    count = 0  # Track how many valid combinations meet the probability requirement\n",
    "    min_pair = (len(list_red), len(list_black))  # Initialize minimum pair with max possible values\n",
    "    \n",
    "    for num_r in list_red:\n",
    "        for num_b in list_black:\n",
    "            # Run trials and obtain the mean probability and standard error\n",
    "            prob_mean, prob_se, _ = run_trials_optimized(n_trials, sample_size, num_r, num_b, verbose=False)\n",
    "            \n",
    "            # Calculate the 95% confidence interval width\n",
    "            ci_width = 2 * 1.96 * prob_se\n",
    "                    \n",
    "            # Check if the target probability falls within the confidence interval of the estimated mean\n",
    "            if prob_mean - 1.96 * prob_se <= prob <= prob_mean + 1.96 * prob_se:\n",
    "                if ci_width > tol:\n",
    "                    if verbose:\n",
    "                        print(f'The confidence interval width ({ci_width:.5f}) is wider than the tolerance ({tol}).')\n",
    "                        print('Consider increasing the number of trials or the sample size.')\n",
    "                else:\n",
    "                    count += 1\n",
    "                    # Update the minimum pair if this combination has fewer socks\n",
    "                    if num_r + num_b < min_pair[0] + min_pair[1]:\n",
    "                        min_pair = (num_r, num_b)\n",
    "                    if verbose:\n",
    "                        print(f'Red socks: {num_r}, Black socks: {num_b}')\n",
    "                        print(f'Probability: {prob_mean:.5f}, SE: {prob_se:.5f}, CI width: {ci_width:.5f} \\n')\n",
    "\n",
    "     \n",
    "    if count > 0:\n",
    "        print(f'\\nThe minimum number of socks that give a probability of {prob} is: {min_pair[0]+min_pair[1]}, with {min_pair[0]} red socks and {min_pair[1]} black socks')           \n",
    "    else:\n",
    "        print('No combination of socks resulted in the target probability.')\n",
    "\n"
   ]
  },
  {
   "cell_type": "markdown",
   "id": "034994ae",
   "metadata": {},
   "source": [
    "#### Part a)\n",
    "\n",
    "We will search for the minimum number of red and black socks that give a probability of 0.5. We will start with the range of 1 to 10 for both red and black socks."
   ]
  },
  {
   "cell_type": "code",
   "execution_count": 39,
   "id": "6a9eff01-2d46-4416-a3e2-456042529ef9",
   "metadata": {},
   "outputs": [
    {
     "name": "stdout",
     "output_type": "stream",
     "text": [
      "Red socks: 3, Black socks: 1\n",
      "Probability: 0.49977, SE: 0.00016, CI width: 0.00063 \n",
      "\n",
      "\n",
      "The minimum number of socks that give a probability of 0.5 is: 4, with 3 red socks and 1 black socks\n"
     ]
    }
   ],
   "source": [
    "list_red = list(range(1,10))\n",
    "list_black = list(range(1,10))\n",
    "\n",
    "min_socks(list_red,list_black)"
   ]
  },
  {
   "cell_type": "markdown",
   "id": "2edd5ca3",
   "metadata": {},
   "source": [
    "#### Part b)\n",
    "\n",
    "Since the number of black socks is even, we will define the list_black accordingly"
   ]
  },
  {
   "cell_type": "code",
   "execution_count": 40,
   "id": "591c9318",
   "metadata": {},
   "outputs": [
    {
     "name": "stdout",
     "output_type": "stream",
     "text": [
      "Red socks: 15, Black socks: 6\n",
      "Probability: 0.50015, SE: 0.00016, CI width: 0.00062 \n",
      "\n",
      "\n",
      "The minimum number of socks that give a probability of 0.5 is: 21, with 15 red socks and 6 black socks\n"
     ]
    }
   ],
   "source": [
    "list_red = list(range(1,20))\n",
    "list_black = list(range(2,20,2))\n",
    "\n",
    "min_socks(list_red,list_black)"
   ]
  },
  {
   "cell_type": "markdown",
   "id": "689d3ab3",
   "metadata": {},
   "source": [
    "The above results are matching with the ones in the book. "
   ]
  }
 ],
 "metadata": {
  "kernelspec": {
   "display_name": "base",
   "language": "python",
   "name": "python3"
  },
  "language_info": {
   "codemirror_mode": {
    "name": "ipython",
    "version": 3
   },
   "file_extension": ".py",
   "mimetype": "text/x-python",
   "name": "python",
   "nbconvert_exporter": "python",
   "pygments_lexer": "ipython3",
   "version": "3.11.5"
  }
 },
 "nbformat": 4,
 "nbformat_minor": 5
}
